#-*- coding: utf-8 -*-
import os
import sys
import urllib.request
# client_id = "YOUR_CLIENT_ID"
# client_secret = "YOUR_CLIENT_SECRET"
url = "https://openapi.naver.com/v1/datalab/shopping/categories";
body = "{\"startDate\":\"2020-08-01\",\"endDate\":\"2022-09-30\",\"timeUnit\":\"month\",\"category\":[{\"name\":\"패션목걸이\",\"param\":[\"50004174\"]},{\"name\":\"유리닦이용품\",\"param\":[\"50001845\"]}],\"device\":\"pc\",\"ages\":[\"20\",\"50\"],\"gender\":\"\"}";

request = urllib.request.Request(url)
request.add_header("X-Naver-Client-Id",client_id)
request.add_header("X-Naver-Client-Secret",client_secret)
request.add_header("Content-Type","application/json")
response = urllib.request.urlopen(request, data=body.encode("utf-8"))
rescode = response.getcode()
if(rescode==200):
    response_body = response.read()
    print(response_body.decode('utf-8'))
else:
    print("Error Code:" + rescode)
