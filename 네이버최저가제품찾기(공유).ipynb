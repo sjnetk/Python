{
  "nbformat": 4,
  "nbformat_minor": 0,
  "metadata": {
    "colab": {
      "provenance": [],
      "authorship_tag": "ABX9TyPs/a79FVgdvdBPDw3DR5NO",
      "include_colab_link": true
    },
    "kernelspec": {
      "name": "python3",
      "display_name": "Python 3"
    },
    "language_info": {
      "name": "python"
    }
  },
  "cells": [
    {
      "cell_type": "markdown",
      "metadata": {
        "id": "view-in-github",
        "colab_type": "text"
      },
      "source": [
        "<a href=\"https://colab.research.google.com/github/sjnetk/Python/blob/main/%EB%84%A4%EC%9D%B4%EB%B2%84%EC%B5%9C%EC%A0%80%EA%B0%80%EC%A0%9C%ED%92%88%EC%B0%BE%EA%B8%B0(%EA%B3%B5%EC%9C%A0).ipynb\" target=\"_parent\"><img src=\"https://colab.research.google.com/assets/colab-badge.svg\" alt=\"Open In Colab\"/></a>"
      ]
    },
    {
      "cell_type": "code",
      "source": [
        "#-*- coding: utf-8 -*-\n",
        "import os\n",
        "import sys\n",
        "import urllib.request\n",
        "client_id = \"P3OyQZuWZzf8t7fDD35M\"\n",
        "client_secret = \"GMADrcUiqp\"\n",
        "url = \"https://openapi.naver.com/v1/datalab/shopping/categories\";\n",
        "body = \"{\\\"startDate\\\":\\\"2017-08-01\\\",\\\"endDate\\\":\\\"2017-09-30\\\",\\\"timeUnit\\\":\\\"month\\\",\\\"category\\\":[{\\\"name\\\":\\\"패션의류\\\",\\\"param\\\":[\\\"50000000\\\"]},{\\\"name\\\":\\\"화장품/미용\\\",\\\"param\\\":[\\\"50000002\\\"]}],\\\"device\\\":\\\"pc\\\",\\\"ages\\\":[\\\"20\\\",\\\"30\\\"],\\\"gender\\\":\\\"f\\\"}\";\n",
        "\n",
        "request = urllib.request.Request(url)\n",
        "request.add_header(\"X-Naver-Client-Id\",client_id)\n",
        "request.add_header(\"X-Naver-Client-Secret\",client_secret)\n",
        "request.add_header(\"Content-Type\",\"application/json\")\n",
        "response = urllib.request.urlopen(request, data=body.encode(\"utf-8\"))\n",
        "rescode = response.getcode()\n",
        "if(rescode==200):\n",
        "    response_body = response.read()\n",
        "    print(response_body.decode('utf-8'))\n",
        "else:\n",
        "    print(\"Error Code:\" + rescode)"
      ],
      "metadata": {
        "colab": {
          "base_uri": "https://localhost:8080/"
        },
        "id": "AAqpiMcbiP_C",
        "outputId": "d0e971b4-1d4f-475f-c48b-01fa7ab43666"
      },
      "execution_count": null,
      "outputs": [
        {
          "output_type": "stream",
          "name": "stdout",
          "text": [
            "{\"startDate\":\"2017-08-01\",\"endDate\":\"2017-09-30\",\"timeUnit\":\"month\",\"results\":[{\"title\":\"패션의류\",\"category\":[\"50000000\"],\"data\":[{\"period\":\"2017-08-01\",\"ratio\":84.01252},{\"period\":\"2017-09-01\",\"ratio\":100}]},{\"title\":\"화장품/미용\",\"category\":[\"50000002\"],\"data\":[{\"period\":\"2017-08-01\",\"ratio\":22.21162},{\"period\":\"2017-09-01\",\"ratio\":21.54278}]}]}\n"
          ]
        }
      ]
    },
    {
      "cell_type": "markdown",
      "source": [
        "#인증코드"
      ],
      "metadata": {
        "id": "W7S-wVG-Xmw-"
      }
    },
    {
      "cell_type": "code",
      "execution_count": null,
      "metadata": {
        "id": "vqL6XQ1991i5"
      },
      "outputs": [],
      "source": [
        "client_id = \"\"\n",
        "client_secret = \"\""
      ]
    },
    {
      "cell_type": "markdown",
      "source": [],
      "metadata": {
        "id": "JhgalXOQBCZ5"
      }
    },
    {
      "cell_type": "markdown",
      "source": [
        "# 원본"
      ],
      "metadata": {
        "id": "dq4d5o-yXj7Q"
      }
    },
    {
      "cell_type": "code",
      "source": [
        "import os\n",
        "import sys\n",
        "import urllib.request\n",
        "\n",
        "# client_id = \"9qoXZPScDKltsdsdfdsf3\"\n",
        "# client_secret = \"UJ34dsfdfw9I\"\n",
        "\n",
        "encText = urllib.parse.quote(\"홍로사과 5Kg\")\n",
        "url = \"https://openapi.naver.com/v1/search/shop?query=\" + encText # JSON 결과\n",
        "# url = \"https://openapi.naver.com/v1/search/blog.xml?query=\" + encText # XML 결과\n",
        "request = urllib.request.Request(url)\n",
        "request.add_header(\"X-Naver-Client-Id\",client_id)\n",
        "request.add_header(\"X-Naver-Client-Secret\",client_secret)\n",
        "response = urllib.request.urlopen(request)\n",
        "rescode = response.getcode()\n",
        "if(rescode==200):\n",
        "    response_body = response.read()\n",
        "    print(response_body.decode('utf-8'))\n",
        "else:\n",
        "    print(\"Error Code:\" + rescode)"
      ],
      "metadata": {
        "id": "7gdE-48OHuGt"
      },
      "execution_count": null,
      "outputs": []
    },
    {
      "cell_type": "markdown",
      "source": [
        "## 입력받기"
      ],
      "metadata": {
        "id": "jIgfmPcjXQ61"
      }
    },
    {
      "cell_type": "code",
      "source": [
        "import os\n",
        "import sys\n",
        "import urllib.request\n",
        "\n",
        "product_name = input(\"검색할 제품명: \")  # User input for product name\n",
        "encText = urllib.parse.quote(product_name)\n",
        "url = \"https://openapi.naver.com/v1/search/shop?query=\" + encText  # JSON result\n",
        "# url = \"https://openapi.naver.com/v1/search/blog.xml?query=\" + encText  # XML result\n",
        "\n",
        "request = urllib.request.Request(url)\n",
        "request.add_header(\"X-Naver-Client-Id\",client_id)\n",
        "request.add_header(\"X-Naver-Client-Secret\",client_secret)\n",
        "response = urllib.request.urlopen(request)\n",
        "rescode = response.getcode()\n",
        "if(rescode==200):\n",
        "    response_body = response.read()\n",
        "    print(response_body.decode('utf-8'))\n",
        "else:\n",
        "    print(\"Error Code:\" + rescode)\n"
      ],
      "metadata": {
        "id": "Qi6tvGumSHtj"
      },
      "execution_count": null,
      "outputs": []
    },
    {
      "cell_type": "markdown",
      "source": [
        "# 엑셀로 변환"
      ],
      "metadata": {
        "id": "N1NHmLGhXV7o"
      }
    },
    {
      "cell_type": "code",
      "source": [
        "import os\n",
        "import sys\n",
        "import urllib.request\n",
        "import json\n",
        "import pandas as pd\n",
        "from operator import itemgetter\n",
        "\n",
        "product_name = input(\"Enter the product name: \")  # User input for product name\n",
        "encText = urllib.parse.quote(product_name)\n",
        "url = \"https://openapi.naver.com/v1/search/shop?query=\" + encText  # JSON result\n",
        "\n",
        "request = urllib.request.Request(url)\n",
        "request.add_header(\"X-Naver-Client-Id\",client_id)\n",
        "request.add_header(\"X-Naver-Client-Secret\",client_secret)\n",
        "response = urllib.request.urlopen(request)\n",
        "rescode = response.getcode()\n",
        "\n",
        "if(rescode==200):\n",
        "    response_body = response.read()\n",
        "    data = json.loads(response_body.decode('utf-8'))\n",
        "\n",
        "    # Convert lprice to integer and sort items, ignoring items where it fails\n",
        "    items = data['items']  # Extract the items\n",
        "    for item in items:\n",
        "        try:\n",
        "            item['lprice'] = int(item['lprice'])\n",
        "        except ValueError:\n",
        "            pass\n",
        "\n",
        "    # Sort items by lprice\n",
        "    sorted_items = sorted(items, key=itemgetter('lprice'))\n",
        "\n",
        "    # Replace the old items list with the sorted list\n",
        "    data['items'] = sorted_items\n",
        "\n",
        "    # Convert to dataframe and save as csv\n",
        "    df = pd.json_normalize(data['items'])  # normalize the json and convert it to pandas dataframe\n",
        "    df.to_csv(\"output.csv\", encoding='utf-8-sig')  # write the dataframe to an csv file\n",
        "    print(\"CSV file saved as output.csv\")\n",
        "else:\n",
        "    print(\"Error Code:\" + rescode)\n"
      ],
      "metadata": {
        "id": "DRzH5lqgXTS4"
      },
      "execution_count": null,
      "outputs": []
    }
  ]
}