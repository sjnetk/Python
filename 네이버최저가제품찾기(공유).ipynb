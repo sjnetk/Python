{
  "nbformat": 4,
  "nbformat_minor": 0,
  "metadata": {
    "colab": {
      "provenance": [],
      "authorship_tag": "ABX9TyMdsisFjeGe/cuOBe2sj6dn",
      "include_colab_link": true
    },
    "kernelspec": {
      "name": "python3",
      "display_name": "Python 3"
    },
    "language_info": {
      "name": "python"
    }
  },
  "cells": [
    {
      "cell_type": "markdown",
      "metadata": {
        "id": "view-in-github",
        "colab_type": "text"
      },
      "source": [
        "<a href=\"https://colab.research.google.com/github/sjnetk/Python/blob/main/%EB%84%A4%EC%9D%B4%EB%B2%84%EC%B5%9C%EC%A0%80%EA%B0%80%EC%A0%9C%ED%92%88%EC%B0%BE%EA%B8%B0(%EA%B3%B5%EC%9C%A0).ipynb\" target=\"_parent\"><img src=\"https://colab.research.google.com/assets/colab-badge.svg\" alt=\"Open In Colab\"/></a>"
      ]
    },
    {
      "cell_type": "markdown",
      "source": [
        "#인증코드"
      ],
      "metadata": {
        "id": "W7S-wVG-Xmw-"
      }
    },
    {
      "cell_type": "code",
      "execution_count": null,
      "metadata": {
        "id": "vqL6XQ1991i5"
      },
      "outputs": [],
      "source": [
        "client_id = \"\"\n",
        "client_secret = \"\""
      ]
    },
    {
      "cell_type": "markdown",
      "source": [
        "#최저가 엑셀변환"
      ],
      "metadata": {
        "id": "JhgalXOQBCZ5"
      }
    },
    {
      "cell_type": "code",
      "source": [
        "import os\n",
        "import sys\n",
        "import urllib.request\n",
        "import json\n",
        "import pandas as pd\n",
        "from operator import itemgetter\n",
        "\n",
        "product_name = input(\"제품명: \")  # User input for product name\n",
        "encText = urllib.parse.quote(product_name)\n",
        "url = \"https://openapi.naver.com/v1/search/shop?query=\" + encText  # JSON result\n",
        "\n",
        "request = urllib.request.Request(url)\n",
        "request.add_header(\"X-Naver-Client-Id\",client_id)\n",
        "request.add_header(\"X-Naver-Client-Secret\",client_secret)\n",
        "response = urllib.request.urlopen(request)\n",
        "rescode = response.getcode()\n",
        "\n",
        "if(rescode==200):\n",
        "    response_body = response.read()\n",
        "    data = json.loads(response_body.decode('utf-8'))\n",
        "\n",
        "    # Convert lprice to integer and sort items, ignoring items where it fails\n",
        "    items = data['items']  # Extract the items\n",
        "    for item in items:\n",
        "        try:\n",
        "            item['lprice'] = int(item['lprice'])\n",
        "        except ValueError:\n",
        "            pass\n",
        "\n",
        "    # Sort items by lprice\n",
        "    sorted_items = sorted(items, key=itemgetter('lprice'))\n",
        "\n",
        "    # Replace the old items list with the sorted list\n",
        "    data['items'] = sorted_items\n",
        "\n",
        "    # Convert to dataframe and save as csv\n",
        "    df = pd.json_normalize(data['items'])  # normalize the json and convert it to pandas dataframe\n",
        "    df.to_csv(\"output.csv\", encoding='utf-8-sig')  # write the dataframe to an csv file\n",
        "    print(\"CSV file saved as output.csv\")\n",
        "else:\n",
        "    print(\"Error Code:\" + rescode)\n"
      ],
      "metadata": {
        "id": "JpXvEitlzqX9"
      },
      "execution_count": null,
      "outputs": []
    }
  ]
}